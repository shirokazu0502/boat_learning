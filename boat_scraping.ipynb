{
 "cells": [
  {
   "cell_type": "code",
   "execution_count": null,
   "id": "c19c60a7",
   "metadata": {},
   "outputs": [
    {
     "name": "stderr",
     "output_type": "stream",
     "text": [
      "\n",
      "\n",
      "====== WebDriver manager ======\n",
      "Current google-chrome version is 99.0.4844\n",
      "Get LATEST chromedriver version for 99.0.4844 google-chrome\n",
      "Driver [C:\\Users\\shinz\\.wdm\\drivers\\chromedriver\\win32\\99.0.4844.51\\chromedriver.exe] found in cache\n",
      "C:\\Users\\shinz\\AppData\\Local\\Temp/ipykernel_24680/1297966714.py:11: DeprecationWarning: executable_path has been deprecated, please pass in a Service object\n",
      "  driver = webdriver.Chrome(ChromeDriverManager().install(), options=options)\n"
     ]
    }
   ],
   "source": [
    "import time\n",
    "\n",
    "from bs4 import BeautifulSoup\n",
    "from selenium import webdriver\n",
    "from webdriver_manager.chrome import ChromeDriverManager\n",
    "from selenium.webdriver.chrome.options import Options\n",
    "from selenium.webdriver.common.by import By\n",
    "from selenium.webdriver.support.select import Select\n",
    "\n",
    "options = Options()\n",
    "driver = webdriver.Chrome(ChromeDriverManager().install(), options=options)\n",
    "download_url = 'https://www.boatrace.jp/owpc/pc/extra/data/download.html'\n",
    "driver.get(download_url)\n",
    "time.sleep(7)\n",
    "html = driver.page_source\n",
    "soup = BeautifulSoup(html, \"lxml\")\n",
    "datas = soup.find('ul', attrs={'class':'data_list h-mt15'})\n",
    "datas_url = datas.find_all('a')\n",
    "for data_url in datas_url:\n",
    "    home_url = 'https://www.boatrace.jp'\n",
    "    data_url = home_url + data_url.get('href')\n",
    "    driver.get(data_url)\n",
    "    time.sleep(5)\n",
    "driver.close()"
   ]
  },
  {
   "cell_type": "code",
   "execution_count": 4,
   "id": "2d52b62f",
   "metadata": {},
   "outputs": [],
   "source": [
    "data=data_url[1] "
   ]
  },
  {
   "cell_type": "code",
   "execution_count": 9,
   "id": "0f2af208",
   "metadata": {},
   "outputs": [
    {
     "data": {
      "text/plain": [
       "'https://www.boatrace.jp/owpc/pc/extra/data/download.html/static_extra/pc_static/download/data/kibetsu/fan2010.lzh'"
      ]
     },
     "execution_count": 9,
     "metadata": {},
     "output_type": "execute_result"
    }
   ],
   "source": [
    "home_url + data.get('href')"
   ]
  },
  {
   "cell_type": "code",
   "execution_count": 10,
   "id": "62a6053f",
   "metadata": {},
   "outputs": [
    {
     "data": {
      "text/plain": [
       "<a href=\"/static_extra/pc_static/download/data/kibetsu/fan2010.lzh\">前期</a>"
      ]
     },
     "execution_count": 10,
     "metadata": {},
     "output_type": "execute_result"
    }
   ],
   "source": [
    "data"
   ]
  },
  {
   "cell_type": "code",
   "execution_count": null,
   "id": "fa49b6f9",
   "metadata": {},
   "outputs": [],
   "source": []
  }
 ],
 "metadata": {
  "kernelspec": {
   "display_name": "Python 3.9.5 64-bit",
   "language": "python",
   "name": "python3"
  },
  "language_info": {
   "codemirror_mode": {
    "name": "ipython",
    "version": 3
   },
   "file_extension": ".py",
   "mimetype": "text/x-python",
   "name": "python",
   "nbconvert_exporter": "python",
   "pygments_lexer": "ipython3",
   "version": "3.9.5"
  },
  "vscode": {
   "interpreter": {
    "hash": "cc5e9481b25b22c108f649676218b6a98f894c6ae73b2c0894e70dc9a8f0ba23"
   }
  }
 },
 "nbformat": 4,
 "nbformat_minor": 5
}
